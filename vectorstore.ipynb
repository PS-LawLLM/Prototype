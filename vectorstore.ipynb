{
 "cells": [
  {
   "cell_type": "code",
   "execution_count": 1,
   "id": "10b4e116-d676-4884-9f1f-439afd63a711",
   "metadata": {},
   "outputs": [],
   "source": [
    "import pickle\n",
    "from pathlib import Path\n",
    "import faiss\n",
    "import numpy as np\n",
    "\n",
    "EMBED_DIR = Path(\"data/embeddings\")\n",
    "INDEX_DIR = Path(\"data/faiss\")\n",
    "INDEX_DIR.mkdir(parents=True, exist_ok=True)"
   ]
  },
  {
   "cell_type": "code",
   "execution_count": 2,
   "id": "41048dfb-b0a2-4d98-83bf-b56852977578",
   "metadata": {},
   "outputs": [
    {
     "name": "stdout",
     "output_type": "stream",
     "text": [
      "Loaded 577 embeddings\n"
     ]
    }
   ],
   "source": [
    "with open(EMBED_DIR / \"embeddings.pkl\", \"rb\") as f:\n",
    "    data = pickle.load(f)\n",
    "\n",
    "embeddings = data[\"embeddings\"]\n",
    "metadata = data[\"metadata\"]\n",
    "\n",
    "print(f\"Loaded {len(embeddings)} embeddings\")"
   ]
  },
  {
   "cell_type": "code",
   "execution_count": 3,
   "id": "2a213bd8-1d49-4046-b139-fe91a725e076",
   "metadata": {},
   "outputs": [
    {
     "name": "stdout",
     "output_type": "stream",
     "text": [
      "FAISS index built with 577 vectors\n"
     ]
    }
   ],
   "source": [
    "d = embeddings.shape[1]  # dimension of embeddings\n",
    "index = faiss.IndexFlatL2(d)  # L2 distance\n",
    "index.add(embeddings)\n",
    "\n",
    "print(f\"FAISS index built with {index.ntotal} vectors\")"
   ]
  },
  {
   "cell_type": "code",
   "execution_count": 4,
   "id": "7a4eca84-5755-493a-808d-33470d3d12d1",
   "metadata": {},
   "outputs": [
    {
     "name": "stdout",
     "output_type": "stream",
     "text": [
      "Saved FAISS index and metadata to data/faiss\n"
     ]
    }
   ],
   "source": [
    "faiss.write_index(index, str(INDEX_DIR / \"law_index.faiss\"))\n",
    "\n",
    "with open(INDEX_DIR / \"metadata.pkl\", \"wb\") as f:\n",
    "    pickle.dump(metadata, f)\n",
    "\n",
    "print(f\"Saved FAISS index and metadata to {INDEX_DIR}\")"
   ]
  },
  {
   "cell_type": "code",
   "execution_count": null,
   "id": "dfa3dce1-81ec-45b1-85bf-7011d0886dc1",
   "metadata": {},
   "outputs": [],
   "source": []
  }
 ],
 "metadata": {
  "kernelspec": {
   "display_name": "Python 3 (ipykernel)",
   "language": "python",
   "name": "python3"
  },
  "language_info": {
   "codemirror_mode": {
    "name": "ipython",
    "version": 3
   },
   "file_extension": ".py",
   "mimetype": "text/x-python",
   "name": "python",
   "nbconvert_exporter": "python",
   "pygments_lexer": "ipython3",
   "version": "3.12.7"
  }
 },
 "nbformat": 4,
 "nbformat_minor": 5
}
