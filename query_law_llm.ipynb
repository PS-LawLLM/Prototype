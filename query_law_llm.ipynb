{
 "cells": [
  {
   "cell_type": "code",
   "execution_count": 1,
   "id": "76a641db-3699-41e9-a7c4-3f6d1d5b0726",
   "metadata": {},
   "outputs": [
    {
     "name": "stdout",
     "output_type": "stream",
     "text": [
      "FAISS index and metadata loaded. Total chunks: 577\n"
     ]
    }
   ],
   "source": [
    "import faiss\n",
    "import pickle\n",
    "from pathlib import Path\n",
    "import ollama\n",
    "\n",
    "# Paths\n",
    "INDEX_DIR = Path(\"data/faiss\")\n",
    "\n",
    "# Load FAISS index\n",
    "index = faiss.read_index(str(INDEX_DIR / \"law_index.faiss\"))\n",
    "\n",
    "# Load metadata\n",
    "with open(INDEX_DIR / \"metadata.pkl\", \"rb\") as f:\n",
    "    metadata = pickle.load(f)\n",
    "\n",
    "print(f\"FAISS index and metadata loaded. Total chunks: {len(metadata)}\")"
   ]
  },
  {
   "cell_type": "code",
   "execution_count": 2,
   "id": "7d993949-2f3a-4ac0-930c-ae1b1b0618c7",
   "metadata": {},
   "outputs": [],
   "source": [
    "def retrieve(query, top_k=5):\n",
    "    from sentence_transformers import SentenceTransformer\n",
    "    embedder = SentenceTransformer(\"all-mpnet-base-v2\")\n",
    "    \n",
    "    q_emb = embedder.encode([query], convert_to_numpy=True)\n",
    "    distances, indices = index.search(q_emb, top_k)\n",
    "    \n",
    "    results = [metadata[i][\"text\"] for i in indices[0]]\n",
    "    return results\n",
    "    "
   ]
  },
  {
   "cell_type": "code",
   "execution_count": 11,
   "id": "f168527e-b14b-4586-a008-16e77434d0e7",
   "metadata": {},
   "outputs": [],
   "source": [
    "def ask_gemma(query, context_chunks):\n",
    "    # Combine retrieved chunks as context\n",
    "    context = \"\\n\\n\".join(context_chunks)\n",
    "    \n",
    "    prompt = f\"Answer the following legal question based on the provided context:\\n\\n{context}\\n\\nQuestion:\\n{query}\"\n",
    "    \n",
    "    # Send prompt to local Gemma-7B via Ollama\n",
    "    response = ollama.chat(\n",
    "        model=\"gemma3:4b\",\n",
    "        messages=[{\"role\": \"user\", \"content\": prompt}]\n",
    "    )\n",
    "    \n",
    "    # Get the text from the first message in the response\n",
    "    try:\n",
    "        return response.messages[0].content\n",
    "    except AttributeError:\n",
    "        # fallback if the attribute is named differently\n",
    "        return str(response)"
   ]
  },
  {
   "cell_type": "code",
   "execution_count": 13,
   "id": "1cde412b-5e89-431b-ad2e-bcdf1354b08b",
   "metadata": {},
   "outputs": [
    {
     "name": "stdout",
     "output_type": "stream",
     "text": [
      "Answer:\n",
      " model='gemma3:4b' created_at='2025-09-27T08:07:11.011833Z' done=True done_reason='stop' total_duration=79477804750 load_duration=160564291 prompt_eval_count=1996 prompt_eval_duration=15594178416 eval_count=744 eval_duration=63719515125 message=Message(role='assistant', content=\"Okay, let’s break down the legal issues presented by Case ID 0791-01, based on the provided text excerpts. This case appears to be a complex legal dispute involving a computer search and suppression motions. Here's a detailed explanation, synthesizing the key elements:\\n\\n**1. Case 1: The Automobile Accident Case (David Elliot, J.)**\\n\\n* **Procedural Issue:** This case was initially intended to proceed by “submission” (a streamlined process where parties agree on all facts and the judge makes the determination). However, because the parties presented conflicting viewpoints on crucial medical issues (specifically, the plaintiff's psychiatric history), the court determined that a traditional trial was necessary.\\n* **Key Conflict:** The core disagreement revolved around whether the plaintiff’s medical procedures were “medically necessary.” The plaintiff’s physician disputed the necessity, while the defendant asserted otherwise.\\n* **Importance of Witness Testimony:** The court emphasized the importance of evaluating witness demeanor and questioning during a trial, as the trier of fact (the judge) has the authority to assess credibility.\\n* **Lesson Learned:** The court underscored that parties who choose to proceed by submission must fully and unequivocally agree on all relevant facts; otherwise, a traditional trial is required.\\n\\n**2. Case 2: The Computer Search Case (Kenneth R. Fisher, J.)**\\n\\n* **Background:** This case involves the government’s seizure of a computer belonging to a defendant, Kenneth R. Fisher, following a suspicion of illegal activity.\\n* **Initial Seizure:**  Fisher entrusted his computer to a police officer, Mulrooney, for repairs. The court initially ruled that this brief (four-day) delay, over the weekend, constituted an unlawful seizure and should have led to the suppression of evidence obtained as a result.\\n* **Re-Argument and Court’s Revised Ruling:** The defendant successfully argued a re-argument of the case. The court reversed its prior decision, upholding the reasonableness of the seizure.\\n* **Reasoning for Reversal:**\\n    * **Context of Similar Cases:** The court referenced precedent involving the detention of mail for canine sniff tests ( *United States v. Pitts*) and other instances where temporary detentions were deemed reasonable, particularly during investigations.\\n    * **Brevity of Delay:** The court focused on the relatively short duration of the delay (a weekend) and the lack of an expectation of immediate return, finding it justifiable given the ongoing investigation.\\n    * **Reasonable Diligence:** The court emphasized the importance of the police’s actions being conducted with reasonable diligence during the investigation.\\n* **Key Legal Principle:** The case highlights the Fourth Amendment’s protection against unreasonable searches and seizures, and the circumstances under which temporary detentions of property are considered reasonable.\\n\\n**Overall Connection & Synthesis**\\n\\nWhile seemingly distinct, these two cases share a common thread: they both involve disputes regarding property seizures and the boundaries of law enforcement authority under the Fourth Amendment. The computer search case (0791-01) specifically addresses the issue of whether a temporary delay in the return of property constitutes an unreasonable seizure. The automobile accident case illustrates the procedural nuances involved when submitting factual disputes to a court.\\n\\n**To provide a more specific response, please let me know if you have any follow-up questions or would like me to delve deeper into any particular aspect of these cases.** For example, you could ask about:\\n\\n*   Specific legal arguments made by the parties.\\n*   The relevant legal standards applied by the courts.\\n*   The potential implications of these cases for future legal disputes.\", thinking=None, images=None, tool_calls=None)\n"
     ]
    }
   ],
   "source": [
    "query = \"Explain case id 0791-01\"\n",
    "\n",
    "retrieved_chunks = retrieve(query, top_k=3)\n",
    "answer = ask_gemma(query, retrieved_chunks)\n",
    "\n",
    "print(\"Answer:\\n\", answer)"
   ]
  }
 ],
 "metadata": {
  "kernelspec": {
   "display_name": "Python 3 (ipykernel)",
   "language": "python",
   "name": "python3"
  },
  "language_info": {
   "codemirror_mode": {
    "name": "ipython",
    "version": 3
   },
   "file_extension": ".py",
   "mimetype": "text/x-python",
   "name": "python",
   "nbconvert_exporter": "python",
   "pygments_lexer": "ipython3",
   "version": "3.12.7"
  }
 },
 "nbformat": 4,
 "nbformat_minor": 5
}
