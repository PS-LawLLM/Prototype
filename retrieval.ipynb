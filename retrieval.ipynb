{
 "cells": [
  {
   "cell_type": "code",
   "execution_count": 2,
   "id": "17381d29-6486-4e53-b39d-1e3f4e3efd4d",
   "metadata": {},
   "outputs": [
    {
     "name": "stdout",
     "output_type": "stream",
     "text": [
      "FAISS index built with 577 entries\n"
     ]
    }
   ],
   "source": [
    "import pickle\n",
    "import faiss\n",
    "import numpy as np\n",
    "from sentence_transformers import SentenceTransformer\n",
    "\n",
    "# Load embeddings\n",
    "with open(\"data/embeddings/embeddings.pkl\", \"rb\") as f:\n",
    "    data = pickle.load(f)\n",
    "\n",
    "embeddings = data[\"embeddings\"]\n",
    "metadata = data[\"metadata\"]\n",
    "\n",
    "# Build FAISS index\n",
    "d = embeddings.shape[1]  # dimension\n",
    "index = faiss.IndexFlatL2(d)\n",
    "index.add(embeddings)\n",
    "\n",
    "print(f\"FAISS index built with {len(metadata)} entries\")\n",
    "\n",
    "# Load same embedder\n",
    "embedder = SentenceTransformer(\"all-mpnet-base-v2\")\n",
    "\n",
    "label_map = {\n",
    "    0: \"SCR\",   # Similar Case Retrieval\n",
    "    1: \"PCR\"    # Precedent Case Retrieval\n",
    "}\n",
    "\n",
    "def search_cases(query, top_k=5, filter_label=None):\n",
    "    query_vec = embedder.encode([query], convert_to_numpy=True)\n",
    "    D, I = index.search(query_vec, top_k)\n",
    "    \n",
    "    results = []\n",
    "    for idx in I[0]:\n",
    "        case = metadata[idx]\n",
    "        case_label = int(case[\"label\"])  # convert string → int\n",
    "        case[\"label_name\"] = label_map[case_label]\n",
    "        \n",
    "        if filter_label and case[\"label_name\"] != filter_label:\n",
    "            continue\n",
    "        results.append(case)\n",
    "    return results"
   ]
  },
  {
   "cell_type": "markdown",
   "id": "05cd9858-4a61-4cf0-9c73-7f572c53ea6e",
   "metadata": {},
   "source": [
    "for i in range(5):\n",
    "    print(metadata[i])"
   ]
  },
  {
   "cell_type": "markdown",
   "id": "d5da7647-ab9d-45c7-8504-d96a65c6bb3d",
   "metadata": {},
   "source": [
    "labels = set([r[\"label\"] for r in metadata])\n",
    "print(labels)"
   ]
  },
  {
   "cell_type": "code",
   "execution_count": 3,
   "id": "4ae7d19f-5a3d-4b4c-b649-a37d76a8b09b",
   "metadata": {},
   "outputs": [
    {
     "name": "stdout",
     "output_type": "stream",
     "text": [
      "0328-01_4 in a criminal case. The Chandler court viewed Florida’s decision to allow audiovisual coverage of court proceedings as “an exercise of authority reserved to the states under our federalism.” (Id. at 5\n",
      "0321-01_3 (2) implicitly, when the Federal legislation is so comprehensive in scope that it is inferable that Congress intended to fully occupy the “field” of its subject matter; or (3) implicitly, when State l\n",
      "0618-01_7 you have the right to remain silent. Anything you say can and will be used against you in a court of law. You have the right to talk to a lawyer and have him present with you while you’re being questi\n"
     ]
    }
   ],
   "source": [
    "# Similar Case Retrieval (SCR)\n",
    "results = search_cases(\"right to privacy under the 4th amendment\", top_k=3)\n",
    "for r in results:\n",
    "    print(r[\"case_id\"], r[\"text\"][:200])"
   ]
  },
  {
   "cell_type": "code",
   "execution_count": 20,
   "id": "65e14810-3a5b-4553-8310-da8d0792bc8e",
   "metadata": {},
   "outputs": [],
   "source": [
    "results_scr = search_cases(\"property dispute\", top_k=3, filter_label=\"SCR\")\n",
    "results_pcr = search_cases(\"fundamental rights violation\", top_k=3, filter_label=\"PCR\")"
   ]
  },
  {
   "cell_type": "code",
   "execution_count": null,
   "id": "988ca40c-7cc0-45e5-bd05-cca0d5295c05",
   "metadata": {},
   "outputs": [],
   "source": []
  }
 ],
 "metadata": {
  "kernelspec": {
   "display_name": "Python 3 (ipykernel)",
   "language": "python",
   "name": "python3"
  },
  "language_info": {
   "codemirror_mode": {
    "name": "ipython",
    "version": 3
   },
   "file_extension": ".py",
   "mimetype": "text/x-python",
   "name": "python",
   "nbconvert_exporter": "python",
   "pygments_lexer": "ipython3",
   "version": "3.12.7"
  }
 },
 "nbformat": 4,
 "nbformat_minor": 5
}
