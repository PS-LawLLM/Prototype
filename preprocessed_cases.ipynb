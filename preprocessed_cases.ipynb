{
 "cells": [
  {
   "cell_type": "code",
   "execution_count": 1,
   "id": "f05693ad-6b40-447f-99da-455acfa95f0e",
   "metadata": {},
   "outputs": [],
   "source": [
    "# preprocess_cases.py\n",
    "import os, csv, json\n",
    "from pathlib import Path"
   ]
  },
  {
   "cell_type": "code",
   "execution_count": 2,
   "id": "334c2b76-16d1-413c-b134-2c664c7d8383",
   "metadata": {
    "jupyter": {
     "source_hidden": true
    }
   },
   "outputs": [],
   "source": [
    "RAW_DIR = Path(\"data/raw_cases\")\n",
    "OUT_DIR = Path(\"data/processed\")\n",
    "OUT_DIR.mkdir(parents=True, exist_ok=True)"
   ]
  },
  {
   "cell_type": "code",
   "execution_count": 7,
   "id": "451f2b42-b192-4c9c-aa8e-825270c7db45",
   "metadata": {},
   "outputs": [],
   "source": [
    "rows = []\n",
    "for file in RAW_DIR.glob(\"*\"):\n",
    "    text = \"\"\n",
    "    if file.suffix == \".txt\":\n",
    "        text = file.read_text(encoding=\"utf-8\", errors=\"ignore\")\n",
    "\n",
    "    elif file.suffix == \".json\":\n",
    "        data = json.loads(file.read_text())\n",
    "\n",
    "        # Extract from casebody → opinions → text\n",
    "        if \"casebody\" in data and \"opinions\" in data[\"casebody\"]:\n",
    "            opinions = data[\"casebody\"][\"opinions\"]\n",
    "            if isinstance(opinions, list) and len(opinions) > 0:\n",
    "                text = opinions[0].get(\"text\", \"\")\n",
    "\n",
    "        # fallback if still empty\n",
    "        if not text:\n",
    "            text = data.get(\"analysis\", {}).get(\"cardinality\", \"\")\n",
    "\n",
    "    if not text.strip():\n",
    "        continue\n",
    "\n",
    "    # crude placeholder label\n",
    "    label = 1 if \"guilty\" in text.lower() else 0\n",
    "    rows.append({\"case_id\": file.stem, \"text\": text, \"label\": label})"
   ]
  },
  {
   "cell_type": "code",
   "execution_count": 8,
   "id": "86292055-56a7-45a5-8c27-22bbf3f1e7f5",
   "metadata": {},
   "outputs": [
    {
     "name": "stdout",
     "output_type": "stream",
     "text": [
      "Saved 122 cases to data/processed/ljp_data.csv\n"
     ]
    }
   ],
   "source": [
    "csv_path = OUT_DIR / \"ljp_data.csv\"\n",
    "with open(csv_path, \"w\", newline=\"\", encoding=\"utf-8\") as f:\n",
    "    writer = csv.DictWriter(f, fieldnames=[\"case_id\", \"text\", \"label\"])\n",
    "    writer.writeheader()\n",
    "    writer.writerows(rows)\n",
    "\n",
    "print(f\"Saved {len(rows)} cases to {csv_path}\")"
   ]
  },
  {
   "cell_type": "code",
   "execution_count": null,
   "id": "54df8730-fbd3-4be3-8532-ab62d5299dd3",
   "metadata": {},
   "outputs": [],
   "source": []
  },
  {
   "cell_type": "code",
   "execution_count": null,
   "id": "fb63a51b-44f1-4bb1-ae01-75452c1041f9",
   "metadata": {},
   "outputs": [],
   "source": []
  }
 ],
 "metadata": {
  "kernelspec": {
   "display_name": "Python 3 (ipykernel)",
   "language": "python",
   "name": "python3"
  },
  "language_info": {
   "codemirror_mode": {
    "name": "ipython",
    "version": 3
   },
   "file_extension": ".py",
   "mimetype": "text/x-python",
   "name": "python",
   "nbconvert_exporter": "python",
   "pygments_lexer": "ipython3",
   "version": "3.12.7"
  }
 },
 "nbformat": 4,
 "nbformat_minor": 5
}
