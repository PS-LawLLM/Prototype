{
 "cells": [
  {
   "cell_type": "code",
   "execution_count": 2,
   "id": "f7acb8ee-e71b-46e7-a929-0fd67831933a",
   "metadata": {},
   "outputs": [],
   "source": [
    "import os\n",
    "import csv\n",
    "import pickle\n",
    "from pathlib import Path\n",
    "from sentence_transformers import SentenceTransformer\n",
    "\n",
    "# Paths\n",
    "DATA_CSV = Path(\"data/processed/ljp_data.csv\")\n",
    "EMBED_DIR = Path(\"data/embeddings\")\n",
    "EMBED_DIR.mkdir(parents=True, exist_ok=True)\n",
    "\n",
    "# Chunk size\n",
    "CHUNK_SIZE = 500  # words per chunk"
   ]
  },
  {
   "cell_type": "code",
   "execution_count": 3,
   "id": "47d90778-6aaa-4665-8dfb-243501f4640b",
   "metadata": {},
   "outputs": [],
   "source": [
    "def chunk_text(text, chunk_size=CHUNK_SIZE):\n",
    "    words = text.split()\n",
    "    chunks = []\n",
    "    for i in range(0, len(words), chunk_size):\n",
    "        chunks.append(\" \".join(words[i:i+chunk_size]))\n",
    "    return chunks"
   ]
  },
  {
   "cell_type": "code",
   "execution_count": 4,
   "id": "e783c68c-813e-4f97-b273-85fff1542afb",
   "metadata": {},
   "outputs": [
    {
     "name": "stdout",
     "output_type": "stream",
     "text": [
      "Total chunks to embed: 577\n"
     ]
    }
   ],
   "source": [
    "rows = []\n",
    "with open(DATA_CSV, encoding=\"utf-8\") as f:\n",
    "    reader = csv.DictReader(f)\n",
    "    for row in reader:\n",
    "        case_id = row[\"case_id\"]\n",
    "        text = row[\"text\"]\n",
    "        label = row[\"label\"]\n",
    "\n",
    "        chunks = chunk_text(text)\n",
    "        for idx, chunk in enumerate(chunks):\n",
    "            rows.append({\"case_id\": f\"{case_id}_{idx}\", \"text\": chunk, \"label\": label})\n",
    "\n",
    "print(f\"Total chunks to embed: {len(rows)}\")"
   ]
  },
  {
   "cell_type": "code",
   "execution_count": 5,
   "id": "0f6ca8b8-a49f-404c-9be0-b71ed440569a",
   "metadata": {},
   "outputs": [
    {
     "data": {
      "application/vnd.jupyter.widget-view+json": {
       "model_id": "efe4d1ab5e3242cdb1ee3f6ff6ea88d7",
       "version_major": 2,
       "version_minor": 0
      },
      "text/plain": [
       "tokenizer_config.json:   0%|          | 0.00/363 [00:00<?, ?B/s]"
      ]
     },
     "metadata": {},
     "output_type": "display_data"
    },
    {
     "data": {
      "application/vnd.jupyter.widget-view+json": {
       "model_id": "9fe0da35d4b64f9497f7039abda27fe2",
       "version_major": 2,
       "version_minor": 0
      },
      "text/plain": [
       "vocab.txt: 0.00B [00:00, ?B/s]"
      ]
     },
     "metadata": {},
     "output_type": "display_data"
    },
    {
     "data": {
      "application/vnd.jupyter.widget-view+json": {
       "model_id": "5b0c7d77a41e4aa58a1dbe3082fda86d",
       "version_major": 2,
       "version_minor": 0
      },
      "text/plain": [
       "tokenizer.json: 0.00B [00:00, ?B/s]"
      ]
     },
     "metadata": {},
     "output_type": "display_data"
    },
    {
     "data": {
      "application/vnd.jupyter.widget-view+json": {
       "model_id": "03bc729653ed4554be1090ccd80351ea",
       "version_major": 2,
       "version_minor": 0
      },
      "text/plain": [
       "special_tokens_map.json:   0%|          | 0.00/239 [00:00<?, ?B/s]"
      ]
     },
     "metadata": {},
     "output_type": "display_data"
    },
    {
     "data": {
      "application/vnd.jupyter.widget-view+json": {
       "model_id": "a4bb52862b624b44befd1ac30ade1547",
       "version_major": 2,
       "version_minor": 0
      },
      "text/plain": [
       "config.json:   0%|          | 0.00/190 [00:00<?, ?B/s]"
      ]
     },
     "metadata": {},
     "output_type": "display_data"
    },
    {
     "data": {
      "application/vnd.jupyter.widget-view+json": {
       "model_id": "9621bb0fc17e4d368bf01631b202382a",
       "version_major": 2,
       "version_minor": 0
      },
      "text/plain": [
       "Batches:   0%|          | 0/19 [00:00<?, ?it/s]"
      ]
     },
     "metadata": {},
     "output_type": "display_data"
    },
    {
     "name": "stdout",
     "output_type": "stream",
     "text": [
      "Embeddings generated successfully!\n"
     ]
    }
   ],
   "source": [
    "embedder = SentenceTransformer(\"all-mpnet-base-v2\")\n",
    "\n",
    "texts = [r[\"text\"] for r in rows]\n",
    "embeddings = embedder.encode(texts, show_progress_bar=True, convert_to_numpy=True)\n",
    "\n",
    "print(\"Embeddings generated successfully!\")"
   ]
  },
  {
   "cell_type": "code",
   "execution_count": 6,
   "id": "a5e1eda8-a9b4-4af6-87c7-ad42e9c69463",
   "metadata": {},
   "outputs": [
    {
     "name": "stdout",
     "output_type": "stream",
     "text": [
      "Saved embeddings and metadata to data/embeddings\n"
     ]
    }
   ],
   "source": [
    "with open(EMBED_DIR / \"embeddings.pkl\", \"wb\") as f:\n",
    "    pickle.dump({\"embeddings\": embeddings, \"metadata\": rows}, f)\n",
    "\n",
    "print(f\"Saved embeddings and metadata to {EMBED_DIR}\")"
   ]
  },
  {
   "cell_type": "code",
   "execution_count": null,
   "id": "95a019b2-9a51-41d6-97b9-bdbbcd6986f6",
   "metadata": {},
   "outputs": [],
   "source": []
  }
 ],
 "metadata": {
  "kernelspec": {
   "display_name": "Python 3 (ipykernel)",
   "language": "python",
   "name": "python3"
  },
  "language_info": {
   "codemirror_mode": {
    "name": "ipython",
    "version": 3
   },
   "file_extension": ".py",
   "mimetype": "text/x-python",
   "name": "python",
   "nbconvert_exporter": "python",
   "pygments_lexer": "ipython3",
   "version": "3.12.7"
  }
 },
 "nbformat": 4,
 "nbformat_minor": 5
}
